{
  "nbformat": 4,
  "nbformat_minor": 0,
  "metadata": {
    "colab": {
      "provenance": []
    },
    "kernelspec": {
      "name": "python3",
      "display_name": "Python 3"
    },
    "language_info": {
      "name": "python"
    }
  },
  "cells": [
    {
      "cell_type": "code",
      "execution_count": 19,
      "metadata": {
        "id": "_Y8N0Um-1yze"
      },
      "outputs": [],
      "source": [
        "from os import XATTR_REPLACE\n",
        "import pandas as pd\n",
        "from joblib import dump, load\n",
        "import numpy as np\n",
        "import statsmodels.tsa.seasonal\n",
        "\n",
        "def read_parquet_file(name):\n",
        "  return pd.read_parquet(name)\n",
        "\n",
        "def listToTimeLine(dates, values):\n",
        "  df = pd.DataFrame({'dates': dates[0], 'values': values[0]})\n",
        "  return df\n",
        "\n",
        "def iteratingTimeSeries(i, df):\n",
        "  df_np = np.array(df)[i]\n",
        "  df_i = pd.DataFrame(df_np).T\n",
        "  return listToTimeLine(df_i[0], df_i[1])\n",
        "\n",
        "def getDfComposed(df):\n",
        "  return statsmodels.tsa.seasonal.seasonal_decompose(df, model='additive', filt=None, period=None, two_sided=True, extrapolate_trend=10)\n",
        "\n",
        "def prepare_data(df):\n",
        "  df = df.drop('id', axis=1)\n",
        "  df_features = pd.DataFrame(columns = ['observed', 'seasonal', 'trend', 'resid', 'weights'])\n",
        "  for i in range(len(df)):\n",
        "    df_i = iteratingTimeSeries(i, df)\n",
        "\n",
        "    df_transformed = pd.DataFrame(data=np.array(df_i['values']), index = pd.to_datetime(np.array(df_i['dates'])), columns = ['values']).fillna(0)\n",
        "    df_composed = getDfComposed(df_transformed)\n",
        "    features = [df_composed.observed.mean(), df_composed.seasonal.mean(), df_composed.trend.mean(), df_composed.resid.mean(), df_composed.weights.mean()]\n",
        "    df_features.loc[len(df_features)] = features\n",
        "  return df_features\n",
        "\n",
        "def featureEngineering(X):\n",
        "  X['rolling_std'] = X['observed'].rolling(window=5).std()\n",
        "  X['trend'] = (np.array(X['trend']) / np.array(np.abs(X['trend']))) * np.log(np.abs(X['trend'])**2)\n",
        "  X['rolling_std'] = X['rolling_std'].fillna(X['rolling_std'].mean())\n",
        "  return X"
      ]
    },
    {
      "cell_type": "markdown",
      "source": [
        "Пусть тестовый файл - test.parquet (можно заменить его на любой другой файл этого типа)"
      ],
      "metadata": {
        "id": "QKDALqgY-qSv"
      }
    },
    {
      "cell_type": "code",
      "source": [
        "df = read_parquet_file('test.parquet')\n",
        "id = df['id']\n",
        "df = prepare_data(df)\n",
        "df = df.drop('weights', axis=1)\n",
        "df = featureEngineering(df)"
      ],
      "metadata": {
        "id": "lXmkqFdj-EaQ"
      },
      "execution_count": 15,
      "outputs": []
    },
    {
      "cell_type": "code",
      "source": [
        "!pip install catboost\n",
        "from catboost import CatBoostClassifier\n",
        "model = load('model.joblib')"
      ],
      "metadata": {
        "id": "SpkuHRrq_R5J"
      },
      "execution_count": null,
      "outputs": []
    },
    {
      "cell_type": "code",
      "source": [
        "final_pred = model.predict_proba(df)[:, 1]\n",
        "submission = pd.DataFrame({'id': id, 'score': final_pred})"
      ],
      "metadata": {
        "id": "nEVd4QKx_oFF"
      },
      "execution_count": 23,
      "outputs": []
    },
    {
      "cell_type": "code",
      "source": [
        "submission.to_csv('submission.csv', index=False)"
      ],
      "metadata": {
        "id": "CT8ccRcYAB5n"
      },
      "execution_count": 25,
      "outputs": []
    }
  ]
}